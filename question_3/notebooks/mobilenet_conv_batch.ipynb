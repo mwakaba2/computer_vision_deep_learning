{
 "cells": [
  {
   "cell_type": "markdown",
   "metadata": {},
   "source": [
    "Instead of doing separate convolution and batch normalization step for each layer, we would like to combine the two steps so that convolution takes care of the normalization. Combine the batch normalization parameters and weights to calculate the batch-normalized weights and biases for only the layer conv_1 of shape 3x3x3x32. You can ignore the biases provided in the model. The formula for calculating BN weights and bias is here: [https://forums.developer.apple.com/thread/65821](https://forums.developer.apple.com/thread/65821). Assume gamma = 1, calculate the weights modifiers and biases for each output channel (32). Do it only for the first convolution layer, conv_1."
   ]
  },
  {
   "cell_type": "markdown",
   "metadata": {},
   "source": [
    "BN Weights and Bias Formula\n",
    "```\n",
    "A =   g / √(s + 0.001), b = ß - ( A * m )\n",
    "W = w*A\n",
    "\n",
    "s: variance\n",
    "m: mean\n",
    "g: gamma\n",
    "ß: beta\n",
    "w: weights of a feature channel\n",
    "b: bias of a feature channel\n",
    "W: batch nomalized weights\n",
    "for every feature channel separately to get the corresponding weights and bias\n",
    "```"
   ]
  },
  {
   "cell_type": "code",
   "execution_count": 4,
   "metadata": {},
   "outputs": [],
   "source": [
    "import os \n",
    "\n",
    "import tensorflow as tf"
   ]
  },
  {
   "cell_type": "code",
   "execution_count": 9,
   "metadata": {},
   "outputs": [],
   "source": [
    "os.environ['TF_CPP_MIN_LOG_LEVEL'] = '2'\n",
    "tf.logging.set_verbosity(tf.logging.ERROR)\n",
    "\n",
    "MODEL = f\"../../mobilenet/mobilenet_orig/model.ckpt-906808\"\n",
    "META_GRAPH = f\"../../mobilenet/mobilenet_orig/model.ckpt-906808.meta\""
   ]
  },
  {
   "cell_type": "code",
   "execution_count": 20,
   "metadata": {},
   "outputs": [],
   "source": [
    "tf.reset_default_graph()"
   ]
  },
  {
   "cell_type": "code",
   "execution_count": null,
   "metadata": {},
   "outputs": [],
   "source": [
    "batch_norm/moving_variance:0':"
   ]
  },
  {
   "cell_type": "code",
   "execution_count": 32,
   "metadata": {},
   "outputs": [],
   "source": [
    "with tf.Session() as sess:\n",
    "    saver = tf.train.import_meta_graph(META_GRAPH, clear_devices=True)\n",
    "    saver.restore(sess, MODEL)\n",
    "    new_weights = {}\n",
    "    variables = {}\n",
    "    first_conv_prefix = 'MobileNet/conv_1'\n",
    "    for variable in tf.global_variables():\n",
    "        if variable.name.startswith(first_conv_prefix):\n",
    "            variables[variable.name] = sess.run(variable)\n",
    "            \n",
    "    old_weights = variables[f'{first_conv_prefix}/weights:0']\n",
    "    gamma = 1.0\n",
    "    beta = variables[f'{first_conv_prefix}/batch_norm/beta:0']\n",
    "    mean = variables[f'{first_conv_prefix}/batch_norm/moving_mean:0']\n",
    "    variance = variables[f'{first_conv_prefix}/batch_norm/moving_variance:0']\n",
    "\n",
    "    # Calculate batch-normalized weights\n",
    "    A = gamma / tf.math.sqrt(variance + 0.001)\n",
    "    new_W = old_weights * A\n",
    "    new_weights[f'{first_conv_prefix}/weights:0'] = new_W"
   ]
  },
  {
   "cell_type": "code",
   "execution_count": 35,
   "metadata": {},
   "outputs": [
    {
     "data": {
      "text/plain": [
       "(3, 3, 3, 32)"
      ]
     },
     "execution_count": 35,
     "metadata": {},
     "output_type": "execute_result"
    }
   ],
   "source": [
    "old_weights.shape"
   ]
  },
  {
   "cell_type": "code",
   "execution_count": 36,
   "metadata": {},
   "outputs": [
    {
     "data": {
      "text/plain": [
       "TensorShape([Dimension(3), Dimension(3), Dimension(3), Dimension(32)])"
      ]
     },
     "execution_count": 36,
     "metadata": {},
     "output_type": "execute_result"
    }
   ],
   "source": [
    "new_weights['MobileNet/conv_1/weights:0'].shape"
   ]
  }
 ],
 "metadata": {
  "kernelspec": {
   "display_name": "Python 3",
   "language": "python",
   "name": "python3"
  },
  "language_info": {
   "codemirror_mode": {
    "name": "ipython",
    "version": 3
   },
   "file_extension": ".py",
   "mimetype": "text/x-python",
   "name": "python",
   "nbconvert_exporter": "python",
   "pygments_lexer": "ipython3",
   "version": "3.6.7"
  }
 },
 "nbformat": 4,
 "nbformat_minor": 2
}
